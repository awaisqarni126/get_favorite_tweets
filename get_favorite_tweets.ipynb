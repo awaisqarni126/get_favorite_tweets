{
 "cells": [
  {
   "cell_type": "code",
   "execution_count": 13,
   "id": "23a701e4",
   "metadata": {},
   "outputs": [],
   "source": [
    "#Importing the Tweepy library and creating variable with twitter developer account credentials.\n",
    "import tweepy\n",
    "ACCESS_TOKEN = '3135492864-MvSkF5PeWnoF3QlGMEuiMLNS9V2wFkT2zFt8JWc'\n",
    "ACCESS_SECRET = '62aEbdCcubkFay7qdLsvX2zH3R7tJcfApcX31TqwbHdDG'\n",
    "CONSUMER_KEY = 'mGKtJsylXuweyc2cK0wqP23ur'\n",
    "CONSUMER_SECRET = 'iriG8awUUEs1K1W86Z4o5biHT9PoSD2PcKjublrNj8U2mUMHHS'\n",
    "b_token = \"AAAAAAAAAAAAAAAAAAAAAItbZgEAAAAAr8w8o2tqr63m%2BXvBmV5GC4J3GOE%3DpgqSVpLMy63upZJUFDWyVnXhB8SWRQ4qa6PD81TJshNQSzrH2e\"\n",
    "api = tweepy.Client(b_token, consumer_key=CONSUMER_KEY, consumer_secret=CONSUMER_SECRET, access_token=ACCESS_TOKEN,\n",
    "                    access_token_secret=ACCESS_SECRET)"
   ]
  },
  {
   "cell_type": "code",
   "execution_count": 14,
   "id": "e0af1495",
   "metadata": {},
   "outputs": [],
   "source": [
    "#Pass the twitter account_id in in id variable\n",
    "#To check account_id please visit https://tweeterid.com/#:~:text=The%20Twitter%20ID%20is%20a,never%20change%20its%20Twitter%20ID with screen_name of twitter account.\n",
    "#example of screen_name is awaisqarni126\n",
    "id=str(3135492864)\n",
    "favorite = api.get_liked_tweets(id)\n",
    "fav_tweets={}\n",
    "for i in range(0,len(favorite.data)):\n",
    "    fav_tweets[favorite.data[i].id]=favorite.data[i].text"
   ]
  },
  {
   "cell_type": "code",
   "execution_count": 16,
   "id": "530990d7",
   "metadata": {},
   "outputs": [
    {
     "data": {
      "text/plain": [
       "{1517126787771207681: '@cantonfair https://t.co/aQdxyy2PmK',\n",
       " 1516491213494308865: '#قاتل_اعظم_عمران_خان\\nDear Al-Aqsa Mosque, we, the people of Labbiak, will soon free you from the captivity of the tyrant In Sha Allah❤🔥 https://t.co/0iaS89U4mQ',\n",
       " 1513825671902027778: \"AITweets is a free service that will keep you updated with everything from robotics and machine learning to data science and deep learning. There's no need for you to look up #twitter to know what is happening— Let us do it for you! \\n\\nSubscribe now: https://t.co/WGlJ48UPjf https://t.co/3W8sV9ZMHw\",\n",
       " 1514591958731304962: 'We just sent out our second newsletter. Subscribe to get your copy in your inbox.\\n\\nSubscribe : https://t.co/WGlJ48UPjf\\n\\n#ai #machinelearning #aitweets https://t.co/RU7Wl007fn'}"
      ]
     },
     "execution_count": 16,
     "metadata": {},
     "output_type": "execute_result"
    }
   ],
   "source": [
    "#This prints the dictionary with tweet_id as key and tweet_text as value.\n",
    "fav_tweets"
   ]
  },
  {
   "cell_type": "code",
   "execution_count": null,
   "id": "0de1fb99",
   "metadata": {},
   "outputs": [],
   "source": []
  }
 ],
 "metadata": {
  "kernelspec": {
   "display_name": "Python 3 (ipykernel)",
   "language": "python",
   "name": "python3"
  },
  "language_info": {
   "codemirror_mode": {
    "name": "ipython",
    "version": 3
   },
   "file_extension": ".py",
   "mimetype": "text/x-python",
   "name": "python",
   "nbconvert_exporter": "python",
   "pygments_lexer": "ipython3",
   "version": "3.9.7"
  }
 },
 "nbformat": 4,
 "nbformat_minor": 5
}
